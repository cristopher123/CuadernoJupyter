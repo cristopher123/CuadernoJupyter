{
 "cells": [
  {
   "cell_type": "markdown",
   "id": "8932290f-b048-4caa-8010-7e8a89340527",
   "metadata": {},
   "source": [
    "# Data Science Tools and Ecosystem"
   ]
  },
  {
   "cell_type": "markdown",
   "id": "6f191a35-9da5-4f76-9df4-e9283879d4d8",
   "metadata": {},
   "source": [
    "En este cuaderno, se resumen las herramientas y ecosistemas de ciencia de datos."
   ]
  },
  {
   "cell_type": "markdown",
   "id": "5e6c91d4-3c1c-4eed-a99f-a770e292ef18",
   "metadata": {},
   "source": [
    "Algunos de los lenguajes populares que utilizan los científicos de datos son:\n",
    "1. Python\n",
    "2. R\n",
    "3. SQL\n",
    "4. Scala\n",
    "5. Java\n",
    "6. C++\n",
    "7. Julia\n",
    "8. JavaScript\n",
    "9. PHP\n",
    "10. Go\n",
    "11. Ruby\n",
    "12. Visual Basic\n"
   ]
  },
  {
   "cell_type": "markdown",
   "id": "ce7f6f05-dfc2-4b95-b98e-21ca360bd03b",
   "metadata": {},
   "source": [
    "Algunas de las bibliotecas comúnmente utilizadas por los científicos de datos incluyen:\n",
    "1. Pandas\n",
    "2. Numpy\n",
    "3. Matplotlib\n",
    "4. Seaborn\n",
    "5. Scikit-learn\n",
    "6. Keras\n",
    "7. TensorFlow\n",
    "8. PyTorch\n",
    "9. Apache Spark\n",
    "10. Vegas\n",
    "11. Big DL\n",
    "12. Ggplot2"
   ]
  },
  {
   "cell_type": "markdown",
   "id": "bb751b2f-1225-4855-9461-7ba50c86b8cc",
   "metadata": {},
   "source": [
    "| Herramientas de Ciencia de Datos |\n",
    "|----------------------------------|\n",
    "| Jupyter Notebook                 |\n",
    "| RStudio                          |\n",
    "| Spyder                           |\n"
   ]
  },
  {
   "cell_type": "markdown",
   "id": "1e81959f-3fa7-4479-bc78-3a8afcd30e03",
   "metadata": {},
   "source": [
    "### A continuación, se presentan algunos ejemplos de evaluación de expresiones aritméticas en Python."
   ]
  },
  {
   "cell_type": "code",
   "execution_count": 6,
   "id": "7a8d9562-dc36-44dc-bb20-65b40ddcdb50",
   "metadata": {},
   "outputs": [
    {
     "data": {
      "text/plain": [
       "17"
      ]
     },
     "execution_count": 6,
     "metadata": {},
     "output_type": "execute_result"
    }
   ],
   "source": [
    "# Ejercicio 8 - Crear una celda de código para multiplicar y sumar números\n",
    "#Esta es una expresión aritmética simple para multiplicar y luego sumar enteros\n",
    "(3*4)+5"
   ]
  },
  {
   "cell_type": "code",
   "execution_count": 8,
   "id": "e08a1062-d7f8-4e77-8216-6f865e28b111",
   "metadata": {},
   "outputs": [
    {
     "data": {
      "text/plain": [
       "3"
      ]
     },
     "execution_count": 8,
     "metadata": {},
     "output_type": "execute_result"
    }
   ],
   "source": [
    "#Ejercicio 9 - Crear una celda de código para convertir minutos a horas\n",
    "200//60"
   ]
  },
  {
   "cell_type": "markdown",
   "id": "b6cd605b-25ec-4c97-b1e5-ea3151ec2a7a",
   "metadata": {},
   "source": [
    "#### Objetivos:\n",
    "- Listar lenguajes populares para Ciencia de Datos\n",
    "- Agregar comentarios a celdas de codigo\n",
    "- Formatear el contenido de las celdas tipo markdown"
   ]
  },
  {
   "cell_type": "markdown",
   "id": "bb1353af-3a3c-41f9-9c8f-e381350628d8",
   "metadata": {},
   "source": [
    "## Autor\n",
    "Cristopher Bermudez"
   ]
  },
  {
   "cell_type": "code",
   "execution_count": null,
   "id": "bb81a22c-b13e-4fb0-919d-93317f6be1c4",
   "metadata": {},
   "outputs": [],
   "source": []
  }
 ],
 "metadata": {
  "kernelspec": {
   "display_name": "Python 3 (ipykernel)",
   "language": "python",
   "name": "python3"
  },
  "language_info": {
   "codemirror_mode": {
    "name": "ipython",
    "version": 3
   },
   "file_extension": ".py",
   "mimetype": "text/x-python",
   "name": "python",
   "nbconvert_exporter": "python",
   "pygments_lexer": "ipython3",
   "version": "3.12.8"
  }
 },
 "nbformat": 4,
 "nbformat_minor": 5
}
