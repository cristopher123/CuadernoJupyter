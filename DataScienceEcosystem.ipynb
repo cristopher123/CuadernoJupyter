{
 "cells": [
  {
   "cell_type": "code",
   "execution_count": 3,
   "id": "28e29939-5120-42c8-9407-5687d8e14f08",
   "metadata": {},
   "outputs": [],
   "source": [
    "# Data Science Tools and Ecosystem\n"
   ]
  },
  {
   "cell_type": "code",
   "execution_count": null,
   "id": "f9d708db-45fb-4e73-b02b-5fc3c9820844",
   "metadata": {},
   "outputs": [],
   "source": [
    "En este cuaderno, se resumen las herramientas y ecosistemas de ciencia de datos."
   ]
  },
  {
   "cell_type": "code",
   "execution_count": null,
   "id": "17b48b55-01ea-404e-aa28-1d64e541f280",
   "metadata": {},
   "outputs": [],
   "source": [
    "Algunos de los lenguajes populares que utilizan los científicos de datos son:\n",
    "1. Python\n",
    "2. R\n",
    "3. SQL\n"
   ]
  },
  {
   "cell_type": "code",
   "execution_count": null,
   "id": "15543dd2-991d-4c88-a552-e5ed1768856e",
   "metadata": {},
   "outputs": [],
   "source": [
    "Algunas de las bibliotecas comúnmente utilizadas por los científicos de datos incluyen:\n",
    "1. Pandas\n",
    "2. NumPy\n",
    "3. Matplotlib\n"
   ]
  },
  {
   "cell_type": "code",
   "execution_count": null,
   "id": "c51e4905-a768-43f0-9e1a-7c5922fd1566",
   "metadata": {},
   "outputs": [],
   "source": [
    "| Herramientas de Ciencia de Datos |\n",
    "|----------------------------------|\n",
    "| Jupyter Notebook                 |\n",
    "| RStudio                          |\n",
    "| Spyder                           |\n"
   ]
  },
  {
   "cell_type": "code",
   "execution_count": null,
   "id": "400fc739-4625-4307-b449-86441a9c3ebe",
   "metadata": {},
   "outputs": [],
   "source": [
    "### A continuación, se presentan algunos ejemplos de evaluación de expresiones aritméticas en Python."
   ]
  }
 ],
 "metadata": {
  "kernelspec": {
   "display_name": "Python 3 (ipykernel)",
   "language": "python",
   "name": "python3"
  },
  "language_info": {
   "codemirror_mode": {
    "name": "ipython",
    "version": 3
   },
   "file_extension": ".py",
   "mimetype": "text/x-python",
   "name": "python",
   "nbconvert_exporter": "python",
   "pygments_lexer": "ipython3",
   "version": "3.12.8"
  }
 },
 "nbformat": 4,
 "nbformat_minor": 5
}
